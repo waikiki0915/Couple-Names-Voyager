{
 "cells": [
  {
   "cell_type": "code",
   "execution_count": 1,
   "id": "a1d8d9dd",
   "metadata": {},
   "outputs": [],
   "source": [
    "import pandas as pd"
   ]
  },
  {
   "cell_type": "code",
   "execution_count": 2,
   "id": "e65036e9",
   "metadata": {},
   "outputs": [],
   "source": [
    "df = pd.read_csv(\"/Users/gaoangw/Downloads/full_data.csv\")"
   ]
  },
  {
   "cell_type": "code",
   "execution_count": 3,
   "id": "410ac0da",
   "metadata": {},
   "outputs": [],
   "source": [
    "df = df.drop(columns = 'Unnamed: 0')"
   ]
  },
  {
   "cell_type": "code",
   "execution_count": 46,
   "id": "4f67b5a8",
   "metadata": {},
   "outputs": [],
   "source": [
    "top15 = pd.read_csv(\"/Users/gaoangw/Downloads/top15.csv\")"
   ]
  },
  {
   "cell_type": "code",
   "execution_count": 48,
   "id": "528f457c",
   "metadata": {},
   "outputs": [],
   "source": [
    "top15.columns = ['name','Spouse Name', 'Count']"
   ]
  },
  {
   "cell_type": "code",
   "execution_count": 4,
   "id": "58b12a79",
   "metadata": {},
   "outputs": [],
   "source": [
    "df.columns = ['name','Spouse Name', 'Marriage Year', 'Count']"
   ]
  },
  {
   "cell_type": "code",
   "execution_count": 5,
   "id": "1eae2fa9",
   "metadata": {},
   "outputs": [],
   "source": [
    "from jupyter_dash import JupyterDash"
   ]
  },
  {
   "cell_type": "code",
   "execution_count": 6,
   "id": "729b8d53",
   "metadata": {},
   "outputs": [],
   "source": [
    "import dash\n",
    "from dash import dcc\n",
    "from dash import html"
   ]
  },
  {
   "cell_type": "code",
   "execution_count": 8,
   "id": "558587fd",
   "metadata": {},
   "outputs": [],
   "source": [
    "JupyterDash.infer_jupyter_proxy_config()"
   ]
  },
  {
   "cell_type": "code",
   "execution_count": 9,
   "id": "797cc479",
   "metadata": {},
   "outputs": [],
   "source": [
    "external_stylesheets = ['https://codepen.io/chriddyp/pen/bWLwgP.css']"
   ]
  },
  {
   "cell_type": "code",
   "execution_count": 78,
   "id": "7334cce9",
   "metadata": {},
   "outputs": [],
   "source": [
    "from dash import Dash, dcc, html, Input, Output\n",
    "import plotly.express as px\n",
    "\n",
    "app = JupyterDash(__name__, external_stylesheets=external_stylesheets)\n",
    "\n",
    "# Create server variable with Flask server object for use with gunicorn\n",
    "server = app.server\n",
    "\n",
    "\n",
    "\n",
    "app.layout = html.Div([\n",
    "   \n",
    "    html.H1(children='Couple Names Voyager'),\n",
    "\n",
    "    html.Div(children='''\n",
    "        Enter a first name, and discover the evolving pattern of their spouse's name over time! \n",
    "    '''),\n",
    "    \n",
    "    html.Div([\n",
    "\n",
    "        html.Div([\n",
    "            dcc.Dropdown(\n",
    "                df['name'].unique(),\n",
    "                'John',\n",
    "                id='input_name'\n",
    "            )\n",
    "        ], style={'width': '48%', 'display': 'inline-block'}),\n",
    "    ]),\n",
    "\n",
    "    dcc.Graph(id='pie'),\n",
    "    dcc.Graph(id='graphic')\n",
    "])\n",
    "\n",
    "\n",
    "@app.callback(\n",
    "    Output('pie', 'figure'),\n",
    "    Input('input_name', 'value'))\n",
    "def update_graph(column_name):\n",
    "    dff = top15[top15['name'] == column_name]\n",
    "    fig = px.pie(dff, values='Count', names='Spouse Name', title= column_name + \"'s Top Spouse Names\")\n",
    "    fig.update_traces(textposition='inside', textinfo='percent+label', showlegend=False)\n",
    "    return fig\n",
    "\n",
    "\n",
    "@app.callback(\n",
    "    Output('graphic', 'figure'),\n",
    "    Input('input_name', 'value'))\n",
    "def update_graph2(column_name):\n",
    "    import plotly.graph_objects as go\n",
    "    fig = go.Figure()\n",
    "    dff = top15[top15['name'] == column_name]\n",
    "    for nameb in dff[\"Spouse Name\"].tolist():\n",
    "        dff2 = df[(df[\"Spouse Name\"] == nameb) & (df['name'] == column_name)]\n",
    "        fig.add_trace(go.Scatter(x=dff2[\"Marriage Year\"], y=dff2[\"Count\"],\n",
    "                        mode='lines',\n",
    "                        name=nameb))\n",
    "    fig.update_layout(title= column_name + \"'s spouse name pattern over time\")\n",
    "    return fig\n",
    "\n"
   ]
  },
  {
   "cell_type": "code",
   "execution_count": 79,
   "id": "f1249ae8",
   "metadata": {
    "scrolled": false
   },
   "outputs": [
    {
     "data": {
      "text/html": [
       "\n",
       "        <iframe\n",
       "            width=\"100%\"\n",
       "            height=\"650\"\n",
       "            src=\"http://localhost:8888/proxy/8050/\"\n",
       "            frameborder=\"0\"\n",
       "            allowfullscreen\n",
       "            \n",
       "        ></iframe>\n",
       "        "
      ],
      "text/plain": [
       "<IPython.lib.display.IFrame at 0x14883f3d0>"
      ]
     },
     "metadata": {},
     "output_type": "display_data"
    }
   ],
   "source": [
    "app.run_server(mode=\"inline\")"
   ]
  },
  {
   "cell_type": "code",
   "execution_count": null,
   "id": "6910598f",
   "metadata": {},
   "outputs": [],
   "source": []
  },
  {
   "cell_type": "code",
   "execution_count": null,
   "id": "543f8c1c",
   "metadata": {},
   "outputs": [],
   "source": []
  }
 ],
 "metadata": {
  "kernelspec": {
   "display_name": "Python 3 (ipykernel)",
   "language": "python",
   "name": "python3"
  },
  "language_info": {
   "codemirror_mode": {
    "name": "ipython",
    "version": 3
   },
   "file_extension": ".py",
   "mimetype": "text/x-python",
   "name": "python",
   "nbconvert_exporter": "python",
   "pygments_lexer": "ipython3",
   "version": "3.9.13"
  }
 },
 "nbformat": 4,
 "nbformat_minor": 5
}
