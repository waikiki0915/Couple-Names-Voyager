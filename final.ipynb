{
 "cells": [
  {
   "cell_type": "code",
   "execution_count": 124,
   "id": "a1d8d9dd",
   "metadata": {},
   "outputs": [],
   "source": [
    "import pandas as pd"
   ]
  },
  {
   "cell_type": "code",
   "execution_count": 125,
   "id": "e65036e9",
   "metadata": {},
   "outputs": [],
   "source": [
    "df = pd.read_csv(\"/Users/gaoangw/Downloads/full_data.csv\")"
   ]
  },
  {
   "cell_type": "code",
   "execution_count": 126,
   "id": "410ac0da",
   "metadata": {},
   "outputs": [],
   "source": [
    "df = df.drop(columns = 'Unnamed: 0')"
   ]
  },
  {
   "cell_type": "code",
   "execution_count": 127,
   "id": "58b12a79",
   "metadata": {},
   "outputs": [],
   "source": [
    "df.columns = ['name','Spouse Name', 'Marriage Year', 'Count']"
   ]
  },
  {
   "cell_type": "code",
   "execution_count": 128,
   "id": "1eae2fa9",
   "metadata": {},
   "outputs": [],
   "source": [
    "from jupyter_dash import JupyterDash"
   ]
  },
  {
   "cell_type": "code",
   "execution_count": 129,
   "id": "729b8d53",
   "metadata": {},
   "outputs": [],
   "source": [
    "import dash\n",
    "from dash import dcc\n",
    "from dash import html"
   ]
  },
  {
   "cell_type": "code",
   "execution_count": 131,
   "id": "558587fd",
   "metadata": {},
   "outputs": [],
   "source": [
    "JupyterDash.infer_jupyter_proxy_config()"
   ]
  },
  {
   "cell_type": "code",
   "execution_count": 132,
   "id": "797cc479",
   "metadata": {},
   "outputs": [],
   "source": [
    "external_stylesheets = ['https://codepen.io/chriddyp/pen/bWLwgP.css']"
   ]
  },
  {
   "cell_type": "code",
   "execution_count": 133,
   "id": "7334cce9",
   "metadata": {},
   "outputs": [],
   "source": [
    "from dash import Dash, dcc, html, Input, Output\n",
    "import plotly.express as px\n",
    "\n",
    "app = JupyterDash(__name__, external_stylesheets=external_stylesheets)\n",
    "\n",
    "# Create server variable with Flask server object for use with gunicorn\n",
    "server = app.server\n",
    "\n",
    "app.layout = html.Div([\n",
    "    html.Div([\n",
    "\n",
    "        html.Div([\n",
    "            dcc.Dropdown(\n",
    "                df['name'].unique(),\n",
    "                'John',\n",
    "                id='input_name'\n",
    "            )\n",
    "        ], style={'width': '48%', 'display': 'inline-block'}),\n",
    "    ]),\n",
    "\n",
    "    dcc.Graph(id='graphic')\n",
    "])\n",
    "\n",
    "\n",
    "@app.callback(\n",
    "    Output('graphic', 'figure'),\n",
    "    Input('input_name', 'value'))\n",
    "def update_graph(column_name):\n",
    "    dff = df[df['name'] == column_name]\n",
    "    fig = px.line(dff, x=\"Marriage Year\", y=\"Count\", color = 'Spouse Name', symbol=\"Spouse Name\")\n",
    "    fig.update_layout(title= column_name + \"'s spouse name pattern over time\")\n",
    "    return fig\n"
   ]
  },
  {
   "cell_type": "code",
   "execution_count": 136,
   "id": "f1249ae8",
   "metadata": {
    "scrolled": false
   },
   "outputs": [
    {
     "data": {
      "text/html": [
       "\n",
       "        <iframe\n",
       "            width=\"100%\"\n",
       "            height=\"650\"\n",
       "            src=\"http://localhost:8888/proxy/8050/\"\n",
       "            frameborder=\"0\"\n",
       "            allowfullscreen\n",
       "            \n",
       "        ></iframe>\n",
       "        "
      ],
      "text/plain": [
       "<IPython.lib.display.IFrame at 0x1750e6070>"
      ]
     },
     "metadata": {},
     "output_type": "display_data"
    }
   ],
   "source": [
    "app.run_server(mode=\"inline\")"
   ]
  },
  {
   "cell_type": "code",
   "execution_count": null,
   "id": "625dea70",
   "metadata": {},
   "outputs": [],
   "source": []
  }
 ],
 "metadata": {
  "kernelspec": {
   "display_name": "Python 3 (ipykernel)",
   "language": "python",
   "name": "python3"
  },
  "language_info": {
   "codemirror_mode": {
    "name": "ipython",
    "version": 3
   },
   "file_extension": ".py",
   "mimetype": "text/x-python",
   "name": "python",
   "nbconvert_exporter": "python",
   "pygments_lexer": "ipython3",
   "version": "3.9.13"
  }
 },
 "nbformat": 4,
 "nbformat_minor": 5
}
