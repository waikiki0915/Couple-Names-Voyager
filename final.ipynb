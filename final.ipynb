{
 "cells": [
  {
   "cell_type": "code",
   "execution_count": 172,
   "id": "a1d8d9dd",
   "metadata": {},
   "outputs": [],
   "source": [
    "import pandas as pd"
   ]
  },
  {
   "cell_type": "code",
   "execution_count": 173,
   "id": "e65036e9",
   "metadata": {},
   "outputs": [],
   "source": [
    "df = pd.read_csv(\"/Users/gaoangw/Downloads/full_data2.csv\")"
   ]
  },
  {
   "cell_type": "code",
   "execution_count": 174,
   "id": "423d7c5d",
   "metadata": {},
   "outputs": [],
   "source": [
    "top1pair_perYear = pd.read_csv(\"/Users/gaoangw/Downloads/top1pair_perYear.csv\")"
   ]
  },
  {
   "cell_type": "code",
   "execution_count": 175,
   "id": "281264ee",
   "metadata": {},
   "outputs": [],
   "source": [
    "top15 = pd.read_csv(\"/Users/gaoangw/Downloads/top15.csv\")"
   ]
  },
  {
   "cell_type": "code",
   "execution_count": 176,
   "id": "5d0175fc",
   "metadata": {},
   "outputs": [],
   "source": [
    "top15.columns = ['name','Spouse Name', 'Count_overall']"
   ]
  },
  {
   "cell_type": "code",
   "execution_count": 177,
   "id": "f66277f7",
   "metadata": {},
   "outputs": [
    {
     "data": {
      "text/html": [
       "<div>\n",
       "<style scoped>\n",
       "    .dataframe tbody tr th:only-of-type {\n",
       "        vertical-align: middle;\n",
       "    }\n",
       "\n",
       "    .dataframe tbody tr th {\n",
       "        vertical-align: top;\n",
       "    }\n",
       "\n",
       "    .dataframe thead th {\n",
       "        text-align: right;\n",
       "    }\n",
       "</style>\n",
       "<table border=\"1\" class=\"dataframe\">\n",
       "  <thead>\n",
       "    <tr style=\"text-align: right;\">\n",
       "      <th></th>\n",
       "      <th>name</th>\n",
       "      <th>Spouse Name</th>\n",
       "      <th>Count_overall</th>\n",
       "    </tr>\n",
       "  </thead>\n",
       "  <tbody>\n",
       "    <tr>\n",
       "      <th>0</th>\n",
       "      <td>Aaron</td>\n",
       "      <td>Jennifer</td>\n",
       "      <td>110</td>\n",
       "    </tr>\n",
       "    <tr>\n",
       "      <th>1</th>\n",
       "      <td>Aaron</td>\n",
       "      <td>Sarah</td>\n",
       "      <td>61</td>\n",
       "    </tr>\n",
       "    <tr>\n",
       "      <th>2</th>\n",
       "      <td>Aaron</td>\n",
       "      <td>Amy</td>\n",
       "      <td>56</td>\n",
       "    </tr>\n",
       "    <tr>\n",
       "      <th>3</th>\n",
       "      <td>Aaron</td>\n",
       "      <td>Jessica</td>\n",
       "      <td>48</td>\n",
       "    </tr>\n",
       "    <tr>\n",
       "      <th>4</th>\n",
       "      <td>Aaron</td>\n",
       "      <td>Katherine</td>\n",
       "      <td>43</td>\n",
       "    </tr>\n",
       "    <tr>\n",
       "      <th>...</th>\n",
       "      <td>...</td>\n",
       "      <td>...</td>\n",
       "      <td>...</td>\n",
       "    </tr>\n",
       "    <tr>\n",
       "      <th>13564</th>\n",
       "      <td>Zara</td>\n",
       "      <td>Sergey</td>\n",
       "      <td>6</td>\n",
       "    </tr>\n",
       "    <tr>\n",
       "      <th>13565</th>\n",
       "      <td>Zhanna</td>\n",
       "      <td>Aleksandr</td>\n",
       "      <td>6</td>\n",
       "    </tr>\n",
       "    <tr>\n",
       "      <th>13566</th>\n",
       "      <td>Zoe</td>\n",
       "      <td>Thomas</td>\n",
       "      <td>7</td>\n",
       "    </tr>\n",
       "    <tr>\n",
       "      <th>13567</th>\n",
       "      <td>Zoe</td>\n",
       "      <td>Matthew</td>\n",
       "      <td>6</td>\n",
       "    </tr>\n",
       "    <tr>\n",
       "      <th>13568</th>\n",
       "      <td>Zoe</td>\n",
       "      <td>William</td>\n",
       "      <td>6</td>\n",
       "    </tr>\n",
       "  </tbody>\n",
       "</table>\n",
       "<p>13569 rows × 3 columns</p>\n",
       "</div>"
      ],
      "text/plain": [
       "         name Spouse Name  Count_overall\n",
       "0       Aaron    Jennifer            110\n",
       "1       Aaron       Sarah             61\n",
       "2       Aaron         Amy             56\n",
       "3       Aaron     Jessica             48\n",
       "4       Aaron   Katherine             43\n",
       "...       ...         ...            ...\n",
       "13564    Zara      Sergey              6\n",
       "13565  Zhanna   Aleksandr              6\n",
       "13566     Zoe      Thomas              7\n",
       "13567     Zoe     Matthew              6\n",
       "13568     Zoe     William              6\n",
       "\n",
       "[13569 rows x 3 columns]"
      ]
     },
     "execution_count": 177,
     "metadata": {},
     "output_type": "execute_result"
    }
   ],
   "source": [
    "top15"
   ]
  },
  {
   "cell_type": "code",
   "execution_count": 179,
   "id": "58b12a79",
   "metadata": {},
   "outputs": [],
   "source": [
    "df.columns = ['name','Spouse Name', 'Marriage Year', 'Count','Percentage']"
   ]
  },
  {
   "cell_type": "code",
   "execution_count": 180,
   "id": "bd99333c",
   "metadata": {},
   "outputs": [],
   "source": [
    "df = df.merge(top15)"
   ]
  },
  {
   "cell_type": "code",
   "execution_count": 129,
   "id": "68117ec8",
   "metadata": {},
   "outputs": [],
   "source": [
    "df = df.sort_values (by = ['name','Count_overall','Marriage Year'], ascending=[False, False, True])"
   ]
  },
  {
   "cell_type": "code",
   "execution_count": 182,
   "id": "fd821e1c",
   "metadata": {},
   "outputs": [],
   "source": [
    "df.to_csv('df.csv', index = False)"
   ]
  },
  {
   "cell_type": "code",
   "execution_count": 138,
   "id": "711ea5de",
   "metadata": {},
   "outputs": [
    {
     "data": {
      "application/vnd.plotly.v1+json": {
       "config": {
        "plotlyServerURL": "https://plotly.com"
       },
       "data": [
        {
         "hovertemplate": "Spouse Name=Mary<br>Marriage Year=%{x}<br>Count=%{y}<extra></extra>",
         "legendgroup": "Mary",
         "line": {
          "color": "#636efa",
          "dash": "solid"
         },
         "marker": {
          "symbol": "circle"
         },
         "mode": "lines",
         "name": "Mary",
         "orientation": "v",
         "showlegend": true,
         "type": "scatter",
         "x": [
          1968,
          1969,
          1970,
          1971,
          1972,
          1973,
          1974,
          1975,
          1976,
          1977,
          1978,
          1979,
          1980,
          1981,
          1982,
          1983,
          1984,
          1985,
          1986,
          1987,
          1988,
          1989,
          1990,
          1991,
          1992,
          1993,
          1994,
          1995,
          1996,
          1997,
          1998,
          1999,
          2000,
          2001,
          2002,
          2003,
          2004,
          2005,
          2006,
          2007,
          2008,
          2009,
          2010,
          2011,
          2012,
          2013,
          2014,
          2015
         ],
         "xaxis": "x",
         "y": [
          13,
          16,
          20,
          12,
          16,
          16,
          16,
          19,
          11,
          16,
          14,
          30,
          30,
          30,
          36,
          45,
          14,
          13,
          18,
          12,
          17,
          38,
          27,
          17,
          21,
          7,
          22,
          15,
          7,
          17,
          10,
          10,
          7,
          16,
          8,
          3,
          6,
          11,
          14,
          8,
          2,
          4,
          4,
          9,
          4,
          6,
          6,
          1
         ],
         "yaxis": "y"
        },
        {
         "hovertemplate": "Spouse Name=Susan<br>Marriage Year=%{x}<br>Count=%{y}<extra></extra>",
         "legendgroup": "Susan",
         "line": {
          "color": "#EF553B",
          "dash": "solid"
         },
         "marker": {
          "symbol": "circle"
         },
         "mode": "lines",
         "name": "Susan",
         "orientation": "v",
         "showlegend": true,
         "type": "scatter",
         "x": [
          1968,
          1969,
          1970,
          1971,
          1972,
          1973,
          1974,
          1975,
          1976,
          1977,
          1978,
          1979,
          1980,
          1981,
          1982,
          1983,
          1984,
          1985,
          1986,
          1987,
          1988,
          1989,
          1990,
          1991,
          1992,
          1993,
          1994,
          1995,
          1996,
          1997,
          1998,
          1999,
          2000,
          2001,
          2002,
          2003,
          2004,
          2005,
          2006,
          2007,
          2008,
          2009,
          2010,
          2011,
          2012,
          2013,
          2014
         ],
         "xaxis": "x",
         "y": [
          13,
          12,
          14,
          14,
          9,
          14,
          15,
          11,
          14,
          9,
          11,
          25,
          22,
          40,
          18,
          25,
          15,
          15,
          18,
          9,
          13,
          31,
          21,
          15,
          12,
          5,
          8,
          9,
          20,
          10,
          18,
          11,
          3,
          1,
          12,
          15,
          4,
          3,
          8,
          2,
          5,
          4,
          4,
          4,
          8,
          5,
          3
         ],
         "yaxis": "y"
        },
        {
         "hovertemplate": "Spouse Name=Linda<br>Marriage Year=%{x}<br>Count=%{y}<extra></extra>",
         "legendgroup": "Linda",
         "line": {
          "color": "#00cc96",
          "dash": "solid"
         },
         "marker": {
          "symbol": "circle"
         },
         "mode": "lines",
         "name": "Linda",
         "orientation": "v",
         "showlegend": true,
         "type": "scatter",
         "x": [
          1968,
          1969,
          1970,
          1971,
          1972,
          1973,
          1974,
          1975,
          1976,
          1977,
          1978,
          1979,
          1980,
          1981,
          1982,
          1983,
          1984,
          1985,
          1986,
          1987,
          1988,
          1989,
          1990,
          1991,
          1992,
          1993,
          1994,
          1995,
          1996,
          1997,
          1998,
          1999,
          2000,
          2001,
          2002,
          2003,
          2004,
          2005,
          2006,
          2007,
          2008,
          2009,
          2010,
          2011,
          2012,
          2013
         ],
         "xaxis": "x",
         "y": [
          16,
          30,
          18,
          19,
          18,
          11,
          16,
          17,
          13,
          9,
          7,
          26,
          23,
          19,
          21,
          17,
          14,
          14,
          6,
          7,
          8,
          19,
          24,
          19,
          12,
          9,
          1,
          8,
          14,
          9,
          7,
          9,
          8,
          10,
          2,
          7,
          11,
          2,
          10,
          8,
          2,
          2,
          4,
          4,
          4,
          5
         ],
         "yaxis": "y"
        },
        {
         "hovertemplate": "Spouse Name=Patricia<br>Marriage Year=%{x}<br>Count=%{y}<extra></extra>",
         "legendgroup": "Patricia",
         "line": {
          "color": "#ab63fa",
          "dash": "solid"
         },
         "marker": {
          "symbol": "circle"
         },
         "mode": "lines",
         "name": "Patricia",
         "orientation": "v",
         "showlegend": true,
         "type": "scatter",
         "x": [
          1968,
          1969,
          1970,
          1971,
          1972,
          1973,
          1974,
          1975,
          1976,
          1977,
          1978,
          1979,
          1980,
          1981,
          1982,
          1983,
          1984,
          1985,
          1986,
          1987,
          1988,
          1989,
          1990,
          1991,
          1992,
          1993,
          1994,
          1995,
          1996,
          1997,
          1998,
          1999,
          2000,
          2001,
          2002,
          2003,
          2004,
          2005,
          2006,
          2007,
          2009,
          2010,
          2013,
          2015
         ],
         "xaxis": "x",
         "y": [
          14,
          11,
          18,
          8,
          8,
          10,
          12,
          22,
          9,
          13,
          9,
          12,
          25,
          18,
          20,
          26,
          17,
          8,
          7,
          9,
          6,
          13,
          22,
          13,
          22,
          8,
          11,
          11,
          15,
          8,
          4,
          7,
          8,
          8,
          12,
          12,
          8,
          4,
          4,
          1,
          4,
          4,
          2,
          1
         ],
         "yaxis": "y"
        },
        {
         "hovertemplate": "Spouse Name=Barbara<br>Marriage Year=%{x}<br>Count=%{y}<extra></extra>",
         "legendgroup": "Barbara",
         "line": {
          "color": "#FFA15A",
          "dash": "solid"
         },
         "marker": {
          "symbol": "circle"
         },
         "mode": "lines",
         "name": "Barbara",
         "orientation": "v",
         "showlegend": true,
         "type": "scatter",
         "x": [
          1968,
          1969,
          1970,
          1971,
          1972,
          1973,
          1974,
          1975,
          1976,
          1977,
          1978,
          1979,
          1980,
          1981,
          1982,
          1983,
          1984,
          1985,
          1986,
          1987,
          1988,
          1989,
          1990,
          1991,
          1992,
          1993,
          1994,
          1995,
          1996,
          1997,
          1998,
          1999,
          2000,
          2001,
          2002,
          2003,
          2004,
          2005,
          2006,
          2007,
          2009,
          2013,
          2014
         ],
         "xaxis": "x",
         "y": [
          15,
          13,
          14,
          8,
          10,
          5,
          16,
          8,
          6,
          13,
          5,
          14,
          24,
          22,
          17,
          18,
          8,
          4,
          9,
          6,
          7,
          18,
          12,
          8,
          19,
          3,
          21,
          6,
          12,
          12,
          10,
          9,
          4,
          12,
          6,
          7,
          5,
          4,
          1,
          1,
          2,
          6,
          4
         ],
         "yaxis": "y"
        },
        {
         "hovertemplate": "Spouse Name=Lisa<br>Marriage Year=%{x}<br>Count=%{y}<extra></extra>",
         "legendgroup": "Lisa",
         "line": {
          "color": "#19d3f3",
          "dash": "solid"
         },
         "marker": {
          "symbol": "circle"
         },
         "mode": "lines",
         "name": "Lisa",
         "orientation": "v",
         "showlegend": true,
         "type": "scatter",
         "x": [
          1968,
          1969,
          1973,
          1976,
          1977,
          1978,
          1979,
          1980,
          1981,
          1982,
          1983,
          1984,
          1985,
          1986,
          1987,
          1988,
          1989,
          1990,
          1991,
          1992,
          1993,
          1994,
          1995,
          1996,
          1997,
          1998,
          1999,
          2000,
          2001,
          2002,
          2003,
          2004,
          2005,
          2006,
          2007,
          2008,
          2009,
          2010,
          2011,
          2012,
          2014
         ],
         "xaxis": "x",
         "y": [
          1,
          2,
          5,
          1,
          2,
          2,
          11,
          11,
          18,
          12,
          10,
          3,
          9,
          6,
          8,
          13,
          29,
          27,
          17,
          17,
          10,
          16,
          16,
          14,
          10,
          11,
          1,
          13,
          7,
          18,
          18,
          10,
          16,
          5,
          2,
          5,
          5,
          4,
          6,
          12,
          2
         ],
         "yaxis": "y"
        },
        {
         "hovertemplate": "Spouse Name=Jennifer<br>Marriage Year=%{x}<br>Count=%{y}<extra></extra>",
         "legendgroup": "Jennifer",
         "line": {
          "color": "#FF6692",
          "dash": "solid"
         },
         "marker": {
          "symbol": "circle"
         },
         "mode": "lines",
         "name": "Jennifer",
         "orientation": "v",
         "showlegend": true,
         "type": "scatter",
         "x": [
          1969,
          1970,
          1972,
          1974,
          1975,
          1976,
          1977,
          1978,
          1980,
          1981,
          1982,
          1983,
          1984,
          1985,
          1986,
          1987,
          1988,
          1989,
          1990,
          1991,
          1992,
          1993,
          1994,
          1995,
          1996,
          1997,
          1998,
          1999,
          2000,
          2001,
          2002,
          2003,
          2004,
          2005,
          2006,
          2007,
          2008,
          2009,
          2010,
          2011,
          2012,
          2013,
          2014
         ],
         "xaxis": "x",
         "y": [
          2,
          1,
          1,
          2,
          2,
          2,
          2,
          1,
          6,
          7,
          2,
          5,
          7,
          3,
          7,
          3,
          4,
          15,
          9,
          11,
          10,
          2,
          13,
          20,
          11,
          6,
          20,
          17,
          20,
          19,
          13,
          12,
          26,
          23,
          13,
          13,
          23,
          12,
          2,
          11,
          16,
          4,
          6
         ],
         "yaxis": "y"
        },
        {
         "hovertemplate": "Spouse Name=Karen<br>Marriage Year=%{x}<br>Count=%{y}<extra></extra>",
         "legendgroup": "Karen",
         "line": {
          "color": "#B6E880",
          "dash": "solid"
         },
         "marker": {
          "symbol": "circle"
         },
         "mode": "lines",
         "name": "Karen",
         "orientation": "v",
         "showlegend": true,
         "type": "scatter",
         "x": [
          1968,
          1969,
          1970,
          1971,
          1972,
          1973,
          1974,
          1975,
          1976,
          1977,
          1978,
          1979,
          1980,
          1981,
          1982,
          1983,
          1984,
          1985,
          1986,
          1987,
          1988,
          1989,
          1990,
          1991,
          1992,
          1993,
          1994,
          1995,
          1996,
          1997,
          1998,
          1999,
          2000,
          2001,
          2002,
          2003,
          2004,
          2005,
          2006,
          2007,
          2010,
          2011,
          2013,
          2014
         ],
         "xaxis": "x",
         "y": [
          9,
          8,
          5,
          7,
          9,
          4,
          7,
          9,
          4,
          9,
          10,
          5,
          21,
          16,
          10,
          6,
          13,
          13,
          8,
          8,
          10,
          27,
          18,
          16,
          9,
          8,
          12,
          6,
          6,
          6,
          9,
          16,
          10,
          6,
          8,
          6,
          4,
          6,
          2,
          6,
          8,
          3,
          4,
          2
         ],
         "yaxis": "y"
        },
        {
         "hovertemplate": "Spouse Name=Nancy<br>Marriage Year=%{x}<br>Count=%{y}<extra></extra>",
         "legendgroup": "Nancy",
         "line": {
          "color": "#FF97FF",
          "dash": "solid"
         },
         "marker": {
          "symbol": "circle"
         },
         "mode": "lines",
         "name": "Nancy",
         "orientation": "v",
         "showlegend": true,
         "type": "scatter",
         "x": [
          1968,
          1969,
          1970,
          1971,
          1972,
          1973,
          1974,
          1975,
          1976,
          1977,
          1978,
          1979,
          1980,
          1981,
          1982,
          1983,
          1984,
          1985,
          1986,
          1987,
          1988,
          1989,
          1990,
          1991,
          1992,
          1993,
          1994,
          1995,
          1996,
          1997,
          1998,
          1999,
          2000,
          2001,
          2002,
          2003,
          2005,
          2006,
          2007,
          2009,
          2010,
          2011,
          2012,
          2013
         ],
         "xaxis": "x",
         "y": [
          8,
          6,
          8,
          9,
          10,
          5,
          8,
          6,
          7,
          4,
          4,
          5,
          14,
          19,
          18,
          20,
          12,
          5,
          7,
          5,
          9,
          18,
          14,
          12,
          13,
          7,
          8,
          7,
          14,
          5,
          5,
          7,
          4,
          8,
          4,
          2,
          6,
          3,
          7,
          2,
          2,
          2,
          2,
          4
         ],
         "yaxis": "y"
        },
        {
         "hovertemplate": "Spouse Name=Kathleen<br>Marriage Year=%{x}<br>Count=%{y}<extra></extra>",
         "legendgroup": "Kathleen",
         "line": {
          "color": "#FECB52",
          "dash": "solid"
         },
         "marker": {
          "symbol": "circle"
         },
         "mode": "lines",
         "name": "Kathleen",
         "orientation": "v",
         "showlegend": true,
         "type": "scatter",
         "x": [
          1968,
          1969,
          1970,
          1971,
          1972,
          1973,
          1974,
          1975,
          1976,
          1977,
          1978,
          1979,
          1980,
          1981,
          1982,
          1983,
          1984,
          1985,
          1986,
          1987,
          1988,
          1989,
          1990,
          1991,
          1992,
          1993,
          1994,
          1995,
          1996,
          1997,
          1998,
          1999,
          2000,
          2001,
          2002,
          2003,
          2004,
          2005,
          2006,
          2007,
          2010,
          2011,
          2012,
          2013,
          2014
         ],
         "xaxis": "x",
         "y": [
          10,
          12,
          7,
          15,
          7,
          11,
          9,
          9,
          7,
          5,
          7,
          13,
          12,
          24,
          7,
          11,
          6,
          10,
          5,
          11,
          3,
          21,
          4,
          6,
          3,
          2,
          9,
          3,
          4,
          11,
          3,
          7,
          9,
          1,
          9,
          4,
          8,
          1,
          3,
          4,
          4,
          4,
          4,
          5,
          9
         ],
         "yaxis": "y"
        },
        {
         "hovertemplate": "Spouse Name=Elizabeth<br>Marriage Year=%{x}<br>Count=%{y}<extra></extra>",
         "legendgroup": "Elizabeth",
         "line": {
          "color": "#636efa",
          "dash": "solid"
         },
         "marker": {
          "symbol": "circle"
         },
         "mode": "lines",
         "name": "Elizabeth",
         "orientation": "v",
         "showlegend": true,
         "type": "scatter",
         "x": [
          1968,
          1969,
          1970,
          1971,
          1972,
          1973,
          1974,
          1975,
          1977,
          1978,
          1979,
          1980,
          1982,
          1983,
          1984,
          1985,
          1986,
          1987,
          1988,
          1989,
          1990,
          1991,
          1992,
          1993,
          1994,
          1995,
          1996,
          1997,
          1998,
          1999,
          2000,
          2001,
          2002,
          2003,
          2004,
          2005,
          2006,
          2007,
          2008,
          2009,
          2010,
          2011,
          2013,
          2014,
          2015
         ],
         "xaxis": "x",
         "y": [
          3,
          6,
          3,
          4,
          2,
          3,
          5,
          1,
          3,
          8,
          13,
          10,
          10,
          10,
          8,
          8,
          3,
          6,
          6,
          26,
          16,
          17,
          11,
          2,
          8,
          12,
          9,
          6,
          9,
          3,
          8,
          12,
          4,
          12,
          6,
          10,
          4,
          6,
          2,
          2,
          8,
          8,
          4,
          2,
          3
         ],
         "yaxis": "y"
        },
        {
         "hovertemplate": "Spouse Name=Carol<br>Marriage Year=%{x}<br>Count=%{y}<extra></extra>",
         "legendgroup": "Carol",
         "line": {
          "color": "#EF553B",
          "dash": "solid"
         },
         "marker": {
          "symbol": "circle"
         },
         "mode": "lines",
         "name": "Carol",
         "orientation": "v",
         "showlegend": true,
         "type": "scatter",
         "x": [
          1968,
          1969,
          1970,
          1971,
          1972,
          1973,
          1974,
          1975,
          1976,
          1977,
          1978,
          1979,
          1980,
          1981,
          1982,
          1983,
          1984,
          1985,
          1986,
          1987,
          1988,
          1989,
          1990,
          1991,
          1992,
          1993,
          1994,
          1995,
          1996,
          1997,
          1998,
          1999,
          2000,
          2001,
          2004,
          2005,
          2006,
          2007,
          2012,
          2013,
          2015
         ],
         "xaxis": "x",
         "y": [
          11,
          5,
          12,
          9,
          7,
          7,
          10,
          10,
          8,
          7,
          7,
          9,
          20,
          8,
          30,
          19,
          6,
          7,
          10,
          4,
          4,
          15,
          14,
          7,
          4,
          4,
          6,
          8,
          9,
          4,
          8,
          2,
          2,
          4,
          2,
          2,
          1,
          1,
          2,
          2,
          1
         ],
         "yaxis": "y"
        },
        {
         "hovertemplate": "Spouse Name=Deborah<br>Marriage Year=%{x}<br>Count=%{y}<extra></extra>",
         "legendgroup": "Deborah",
         "line": {
          "color": "#00cc96",
          "dash": "solid"
         },
         "marker": {
          "symbol": "circle"
         },
         "mode": "lines",
         "name": "Deborah",
         "orientation": "v",
         "showlegend": true,
         "type": "scatter",
         "x": [
          1968,
          1969,
          1970,
          1971,
          1972,
          1973,
          1974,
          1975,
          1976,
          1977,
          1978,
          1979,
          1980,
          1981,
          1982,
          1983,
          1984,
          1985,
          1986,
          1987,
          1988,
          1989,
          1990,
          1991,
          1992,
          1993,
          1994,
          1995,
          1996,
          1997,
          1998,
          1999,
          2000,
          2001,
          2002,
          2003,
          2004,
          2005,
          2006,
          2007,
          2012
         ],
         "xaxis": "x",
         "y": [
          4,
          2,
          5,
          5,
          7,
          6,
          10,
          5,
          10,
          2,
          10,
          14,
          8,
          15,
          8,
          4,
          10,
          6,
          9,
          5,
          4,
          15,
          19,
          4,
          12,
          11,
          3,
          7,
          11,
          6,
          4,
          6,
          9,
          10,
          13,
          7,
          2,
          2,
          4,
          2,
          3
         ],
         "yaxis": "y"
        },
        {
         "hovertemplate": "Spouse Name=Julie<br>Marriage Year=%{x}<br>Count=%{y}<extra></extra>",
         "legendgroup": "Julie",
         "line": {
          "color": "#ab63fa",
          "dash": "solid"
         },
         "marker": {
          "symbol": "circle"
         },
         "mode": "lines",
         "name": "Julie",
         "orientation": "v",
         "showlegend": true,
         "type": "scatter",
         "x": [
          1968,
          1969,
          1970,
          1971,
          1972,
          1973,
          1974,
          1975,
          1976,
          1977,
          1978,
          1979,
          1980,
          1981,
          1982,
          1983,
          1984,
          1985,
          1986,
          1987,
          1988,
          1989,
          1990,
          1991,
          1992,
          1993,
          1994,
          1995,
          1996,
          1997,
          1998,
          2000,
          2001,
          2002,
          2003,
          2004,
          2005,
          2006,
          2008,
          2009,
          2010,
          2011,
          2013,
          2014,
          2015
         ],
         "xaxis": "x",
         "y": [
          2,
          3,
          2,
          3,
          3,
          1,
          4,
          1,
          1,
          2,
          3,
          3,
          16,
          14,
          10,
          6,
          8,
          4,
          4,
          9,
          6,
          24,
          16,
          21,
          6,
          2,
          6,
          6,
          16,
          4,
          8,
          6,
          13,
          7,
          8,
          7,
          11,
          2,
          2,
          3,
          4,
          2,
          8,
          3,
          2
         ],
         "yaxis": "y"
        },
        {
         "hovertemplate": "Spouse Name=Sandra<br>Marriage Year=%{x}<br>Count=%{y}<extra></extra>",
         "legendgroup": "Sandra",
         "line": {
          "color": "#FFA15A",
          "dash": "solid"
         },
         "marker": {
          "symbol": "circle"
         },
         "mode": "lines",
         "name": "Sandra",
         "orientation": "v",
         "showlegend": true,
         "type": "scatter",
         "x": [
          1968,
          1969,
          1970,
          1971,
          1972,
          1973,
          1974,
          1975,
          1976,
          1977,
          1978,
          1979,
          1980,
          1981,
          1982,
          1983,
          1984,
          1985,
          1986,
          1988,
          1989,
          1990,
          1991,
          1992,
          1993,
          1994,
          1995,
          1996,
          1997,
          1998,
          1999,
          2000,
          2001,
          2002,
          2003,
          2004,
          2005,
          2006,
          2008,
          2011,
          2012,
          2013,
          2014
         ],
         "xaxis": "x",
         "y": [
          12,
          3,
          7,
          8,
          5,
          9,
          6,
          4,
          3,
          2,
          6,
          9,
          12,
          20,
          10,
          15,
          3,
          6,
          4,
          4,
          17,
          13,
          11,
          5,
          5,
          6,
          9,
          10,
          4,
          10,
          4,
          8,
          4,
          6,
          2,
          2,
          2,
          6,
          4,
          2,
          2,
          5,
          2
         ],
         "yaxis": "y"
        }
       ],
       "layout": {
        "legend": {
         "title": {
          "text": "Spouse Name"
         },
         "tracegroupgap": 0
        },
        "margin": {
         "t": 60
        },
        "template": {
         "data": {
          "bar": [
           {
            "error_x": {
             "color": "#2a3f5f"
            },
            "error_y": {
             "color": "#2a3f5f"
            },
            "marker": {
             "line": {
              "color": "#E5ECF6",
              "width": 0.5
             },
             "pattern": {
              "fillmode": "overlay",
              "size": 10,
              "solidity": 0.2
             }
            },
            "type": "bar"
           }
          ],
          "barpolar": [
           {
            "marker": {
             "line": {
              "color": "#E5ECF6",
              "width": 0.5
             },
             "pattern": {
              "fillmode": "overlay",
              "size": 10,
              "solidity": 0.2
             }
            },
            "type": "barpolar"
           }
          ],
          "carpet": [
           {
            "aaxis": {
             "endlinecolor": "#2a3f5f",
             "gridcolor": "white",
             "linecolor": "white",
             "minorgridcolor": "white",
             "startlinecolor": "#2a3f5f"
            },
            "baxis": {
             "endlinecolor": "#2a3f5f",
             "gridcolor": "white",
             "linecolor": "white",
             "minorgridcolor": "white",
             "startlinecolor": "#2a3f5f"
            },
            "type": "carpet"
           }
          ],
          "choropleth": [
           {
            "colorbar": {
             "outlinewidth": 0,
             "ticks": ""
            },
            "type": "choropleth"
           }
          ],
          "contour": [
           {
            "colorbar": {
             "outlinewidth": 0,
             "ticks": ""
            },
            "colorscale": [
             [
              0,
              "#0d0887"
             ],
             [
              0.1111111111111111,
              "#46039f"
             ],
             [
              0.2222222222222222,
              "#7201a8"
             ],
             [
              0.3333333333333333,
              "#9c179e"
             ],
             [
              0.4444444444444444,
              "#bd3786"
             ],
             [
              0.5555555555555556,
              "#d8576b"
             ],
             [
              0.6666666666666666,
              "#ed7953"
             ],
             [
              0.7777777777777778,
              "#fb9f3a"
             ],
             [
              0.8888888888888888,
              "#fdca26"
             ],
             [
              1,
              "#f0f921"
             ]
            ],
            "type": "contour"
           }
          ],
          "contourcarpet": [
           {
            "colorbar": {
             "outlinewidth": 0,
             "ticks": ""
            },
            "type": "contourcarpet"
           }
          ],
          "heatmap": [
           {
            "colorbar": {
             "outlinewidth": 0,
             "ticks": ""
            },
            "colorscale": [
             [
              0,
              "#0d0887"
             ],
             [
              0.1111111111111111,
              "#46039f"
             ],
             [
              0.2222222222222222,
              "#7201a8"
             ],
             [
              0.3333333333333333,
              "#9c179e"
             ],
             [
              0.4444444444444444,
              "#bd3786"
             ],
             [
              0.5555555555555556,
              "#d8576b"
             ],
             [
              0.6666666666666666,
              "#ed7953"
             ],
             [
              0.7777777777777778,
              "#fb9f3a"
             ],
             [
              0.8888888888888888,
              "#fdca26"
             ],
             [
              1,
              "#f0f921"
             ]
            ],
            "type": "heatmap"
           }
          ],
          "heatmapgl": [
           {
            "colorbar": {
             "outlinewidth": 0,
             "ticks": ""
            },
            "colorscale": [
             [
              0,
              "#0d0887"
             ],
             [
              0.1111111111111111,
              "#46039f"
             ],
             [
              0.2222222222222222,
              "#7201a8"
             ],
             [
              0.3333333333333333,
              "#9c179e"
             ],
             [
              0.4444444444444444,
              "#bd3786"
             ],
             [
              0.5555555555555556,
              "#d8576b"
             ],
             [
              0.6666666666666666,
              "#ed7953"
             ],
             [
              0.7777777777777778,
              "#fb9f3a"
             ],
             [
              0.8888888888888888,
              "#fdca26"
             ],
             [
              1,
              "#f0f921"
             ]
            ],
            "type": "heatmapgl"
           }
          ],
          "histogram": [
           {
            "marker": {
             "pattern": {
              "fillmode": "overlay",
              "size": 10,
              "solidity": 0.2
             }
            },
            "type": "histogram"
           }
          ],
          "histogram2d": [
           {
            "colorbar": {
             "outlinewidth": 0,
             "ticks": ""
            },
            "colorscale": [
             [
              0,
              "#0d0887"
             ],
             [
              0.1111111111111111,
              "#46039f"
             ],
             [
              0.2222222222222222,
              "#7201a8"
             ],
             [
              0.3333333333333333,
              "#9c179e"
             ],
             [
              0.4444444444444444,
              "#bd3786"
             ],
             [
              0.5555555555555556,
              "#d8576b"
             ],
             [
              0.6666666666666666,
              "#ed7953"
             ],
             [
              0.7777777777777778,
              "#fb9f3a"
             ],
             [
              0.8888888888888888,
              "#fdca26"
             ],
             [
              1,
              "#f0f921"
             ]
            ],
            "type": "histogram2d"
           }
          ],
          "histogram2dcontour": [
           {
            "colorbar": {
             "outlinewidth": 0,
             "ticks": ""
            },
            "colorscale": [
             [
              0,
              "#0d0887"
             ],
             [
              0.1111111111111111,
              "#46039f"
             ],
             [
              0.2222222222222222,
              "#7201a8"
             ],
             [
              0.3333333333333333,
              "#9c179e"
             ],
             [
              0.4444444444444444,
              "#bd3786"
             ],
             [
              0.5555555555555556,
              "#d8576b"
             ],
             [
              0.6666666666666666,
              "#ed7953"
             ],
             [
              0.7777777777777778,
              "#fb9f3a"
             ],
             [
              0.8888888888888888,
              "#fdca26"
             ],
             [
              1,
              "#f0f921"
             ]
            ],
            "type": "histogram2dcontour"
           }
          ],
          "mesh3d": [
           {
            "colorbar": {
             "outlinewidth": 0,
             "ticks": ""
            },
            "type": "mesh3d"
           }
          ],
          "parcoords": [
           {
            "line": {
             "colorbar": {
              "outlinewidth": 0,
              "ticks": ""
             }
            },
            "type": "parcoords"
           }
          ],
          "pie": [
           {
            "automargin": true,
            "type": "pie"
           }
          ],
          "scatter": [
           {
            "fillpattern": {
             "fillmode": "overlay",
             "size": 10,
             "solidity": 0.2
            },
            "type": "scatter"
           }
          ],
          "scatter3d": [
           {
            "line": {
             "colorbar": {
              "outlinewidth": 0,
              "ticks": ""
             }
            },
            "marker": {
             "colorbar": {
              "outlinewidth": 0,
              "ticks": ""
             }
            },
            "type": "scatter3d"
           }
          ],
          "scattercarpet": [
           {
            "marker": {
             "colorbar": {
              "outlinewidth": 0,
              "ticks": ""
             }
            },
            "type": "scattercarpet"
           }
          ],
          "scattergeo": [
           {
            "marker": {
             "colorbar": {
              "outlinewidth": 0,
              "ticks": ""
             }
            },
            "type": "scattergeo"
           }
          ],
          "scattergl": [
           {
            "marker": {
             "colorbar": {
              "outlinewidth": 0,
              "ticks": ""
             }
            },
            "type": "scattergl"
           }
          ],
          "scattermapbox": [
           {
            "marker": {
             "colorbar": {
              "outlinewidth": 0,
              "ticks": ""
             }
            },
            "type": "scattermapbox"
           }
          ],
          "scatterpolar": [
           {
            "marker": {
             "colorbar": {
              "outlinewidth": 0,
              "ticks": ""
             }
            },
            "type": "scatterpolar"
           }
          ],
          "scatterpolargl": [
           {
            "marker": {
             "colorbar": {
              "outlinewidth": 0,
              "ticks": ""
             }
            },
            "type": "scatterpolargl"
           }
          ],
          "scatterternary": [
           {
            "marker": {
             "colorbar": {
              "outlinewidth": 0,
              "ticks": ""
             }
            },
            "type": "scatterternary"
           }
          ],
          "surface": [
           {
            "colorbar": {
             "outlinewidth": 0,
             "ticks": ""
            },
            "colorscale": [
             [
              0,
              "#0d0887"
             ],
             [
              0.1111111111111111,
              "#46039f"
             ],
             [
              0.2222222222222222,
              "#7201a8"
             ],
             [
              0.3333333333333333,
              "#9c179e"
             ],
             [
              0.4444444444444444,
              "#bd3786"
             ],
             [
              0.5555555555555556,
              "#d8576b"
             ],
             [
              0.6666666666666666,
              "#ed7953"
             ],
             [
              0.7777777777777778,
              "#fb9f3a"
             ],
             [
              0.8888888888888888,
              "#fdca26"
             ],
             [
              1,
              "#f0f921"
             ]
            ],
            "type": "surface"
           }
          ],
          "table": [
           {
            "cells": {
             "fill": {
              "color": "#EBF0F8"
             },
             "line": {
              "color": "white"
             }
            },
            "header": {
             "fill": {
              "color": "#C8D4E3"
             },
             "line": {
              "color": "white"
             }
            },
            "type": "table"
           }
          ]
         },
         "layout": {
          "annotationdefaults": {
           "arrowcolor": "#2a3f5f",
           "arrowhead": 0,
           "arrowwidth": 1
          },
          "autotypenumbers": "strict",
          "coloraxis": {
           "colorbar": {
            "outlinewidth": 0,
            "ticks": ""
           }
          },
          "colorscale": {
           "diverging": [
            [
             0,
             "#8e0152"
            ],
            [
             0.1,
             "#c51b7d"
            ],
            [
             0.2,
             "#de77ae"
            ],
            [
             0.3,
             "#f1b6da"
            ],
            [
             0.4,
             "#fde0ef"
            ],
            [
             0.5,
             "#f7f7f7"
            ],
            [
             0.6,
             "#e6f5d0"
            ],
            [
             0.7,
             "#b8e186"
            ],
            [
             0.8,
             "#7fbc41"
            ],
            [
             0.9,
             "#4d9221"
            ],
            [
             1,
             "#276419"
            ]
           ],
           "sequential": [
            [
             0,
             "#0d0887"
            ],
            [
             0.1111111111111111,
             "#46039f"
            ],
            [
             0.2222222222222222,
             "#7201a8"
            ],
            [
             0.3333333333333333,
             "#9c179e"
            ],
            [
             0.4444444444444444,
             "#bd3786"
            ],
            [
             0.5555555555555556,
             "#d8576b"
            ],
            [
             0.6666666666666666,
             "#ed7953"
            ],
            [
             0.7777777777777778,
             "#fb9f3a"
            ],
            [
             0.8888888888888888,
             "#fdca26"
            ],
            [
             1,
             "#f0f921"
            ]
           ],
           "sequentialminus": [
            [
             0,
             "#0d0887"
            ],
            [
             0.1111111111111111,
             "#46039f"
            ],
            [
             0.2222222222222222,
             "#7201a8"
            ],
            [
             0.3333333333333333,
             "#9c179e"
            ],
            [
             0.4444444444444444,
             "#bd3786"
            ],
            [
             0.5555555555555556,
             "#d8576b"
            ],
            [
             0.6666666666666666,
             "#ed7953"
            ],
            [
             0.7777777777777778,
             "#fb9f3a"
            ],
            [
             0.8888888888888888,
             "#fdca26"
            ],
            [
             1,
             "#f0f921"
            ]
           ]
          },
          "colorway": [
           "#636efa",
           "#EF553B",
           "#00cc96",
           "#ab63fa",
           "#FFA15A",
           "#19d3f3",
           "#FF6692",
           "#B6E880",
           "#FF97FF",
           "#FECB52"
          ],
          "font": {
           "color": "#2a3f5f"
          },
          "geo": {
           "bgcolor": "white",
           "lakecolor": "white",
           "landcolor": "#E5ECF6",
           "showlakes": true,
           "showland": true,
           "subunitcolor": "white"
          },
          "hoverlabel": {
           "align": "left"
          },
          "hovermode": "closest",
          "mapbox": {
           "style": "light"
          },
          "paper_bgcolor": "white",
          "plot_bgcolor": "#E5ECF6",
          "polar": {
           "angularaxis": {
            "gridcolor": "white",
            "linecolor": "white",
            "ticks": ""
           },
           "bgcolor": "#E5ECF6",
           "radialaxis": {
            "gridcolor": "white",
            "linecolor": "white",
            "ticks": ""
           }
          },
          "scene": {
           "xaxis": {
            "backgroundcolor": "#E5ECF6",
            "gridcolor": "white",
            "gridwidth": 2,
            "linecolor": "white",
            "showbackground": true,
            "ticks": "",
            "zerolinecolor": "white"
           },
           "yaxis": {
            "backgroundcolor": "#E5ECF6",
            "gridcolor": "white",
            "gridwidth": 2,
            "linecolor": "white",
            "showbackground": true,
            "ticks": "",
            "zerolinecolor": "white"
           },
           "zaxis": {
            "backgroundcolor": "#E5ECF6",
            "gridcolor": "white",
            "gridwidth": 2,
            "linecolor": "white",
            "showbackground": true,
            "ticks": "",
            "zerolinecolor": "white"
           }
          },
          "shapedefaults": {
           "line": {
            "color": "#2a3f5f"
           }
          },
          "ternary": {
           "aaxis": {
            "gridcolor": "white",
            "linecolor": "white",
            "ticks": ""
           },
           "baxis": {
            "gridcolor": "white",
            "linecolor": "white",
            "ticks": ""
           },
           "bgcolor": "#E5ECF6",
           "caxis": {
            "gridcolor": "white",
            "linecolor": "white",
            "ticks": ""
           }
          },
          "title": {
           "x": 0.05
          },
          "xaxis": {
           "automargin": true,
           "gridcolor": "white",
           "linecolor": "white",
           "ticks": "",
           "title": {
            "standoff": 15
           },
           "zerolinecolor": "white",
           "zerolinewidth": 2
          },
          "yaxis": {
           "automargin": true,
           "gridcolor": "white",
           "linecolor": "white",
           "ticks": "",
           "title": {
            "standoff": 15
           },
           "zerolinecolor": "white",
           "zerolinewidth": 2
          }
         }
        },
        "xaxis": {
         "anchor": "y",
         "domain": [
          0,
          1
         ],
         "title": {
          "text": "Marriage Year"
         }
        },
        "yaxis": {
         "anchor": "x",
         "domain": [
          0,
          1
         ],
         "title": {
          "text": "Count"
         }
        }
       }
      },
      "text/html": [
       "<div>                            <div id=\"f7e18d16-ac39-4d36-b26d-66b7f5a5e120\" class=\"plotly-graph-div\" style=\"height:525px; width:100%;\"></div>            <script type=\"text/javascript\">                require([\"plotly\"], function(Plotly) {                    window.PLOTLYENV=window.PLOTLYENV || {};                                    if (document.getElementById(\"f7e18d16-ac39-4d36-b26d-66b7f5a5e120\")) {                    Plotly.newPlot(                        \"f7e18d16-ac39-4d36-b26d-66b7f5a5e120\",                        [{\"hovertemplate\":\"Spouse Name=Mary<br>Marriage Year=%{x}<br>Count=%{y}<extra></extra>\",\"legendgroup\":\"Mary\",\"line\":{\"color\":\"#636efa\",\"dash\":\"solid\"},\"marker\":{\"symbol\":\"circle\"},\"mode\":\"lines\",\"name\":\"Mary\",\"orientation\":\"v\",\"showlegend\":true,\"x\":[1968,1969,1970,1971,1972,1973,1974,1975,1976,1977,1978,1979,1980,1981,1982,1983,1984,1985,1986,1987,1988,1989,1990,1991,1992,1993,1994,1995,1996,1997,1998,1999,2000,2001,2002,2003,2004,2005,2006,2007,2008,2009,2010,2011,2012,2013,2014,2015],\"xaxis\":\"x\",\"y\":[13,16,20,12,16,16,16,19,11,16,14,30,30,30,36,45,14,13,18,12,17,38,27,17,21,7,22,15,7,17,10,10,7,16,8,3,6,11,14,8,2,4,4,9,4,6,6,1],\"yaxis\":\"y\",\"type\":\"scatter\"},{\"hovertemplate\":\"Spouse Name=Susan<br>Marriage Year=%{x}<br>Count=%{y}<extra></extra>\",\"legendgroup\":\"Susan\",\"line\":{\"color\":\"#EF553B\",\"dash\":\"solid\"},\"marker\":{\"symbol\":\"circle\"},\"mode\":\"lines\",\"name\":\"Susan\",\"orientation\":\"v\",\"showlegend\":true,\"x\":[1968,1969,1970,1971,1972,1973,1974,1975,1976,1977,1978,1979,1980,1981,1982,1983,1984,1985,1986,1987,1988,1989,1990,1991,1992,1993,1994,1995,1996,1997,1998,1999,2000,2001,2002,2003,2004,2005,2006,2007,2008,2009,2010,2011,2012,2013,2014],\"xaxis\":\"x\",\"y\":[13,12,14,14,9,14,15,11,14,9,11,25,22,40,18,25,15,15,18,9,13,31,21,15,12,5,8,9,20,10,18,11,3,1,12,15,4,3,8,2,5,4,4,4,8,5,3],\"yaxis\":\"y\",\"type\":\"scatter\"},{\"hovertemplate\":\"Spouse Name=Linda<br>Marriage Year=%{x}<br>Count=%{y}<extra></extra>\",\"legendgroup\":\"Linda\",\"line\":{\"color\":\"#00cc96\",\"dash\":\"solid\"},\"marker\":{\"symbol\":\"circle\"},\"mode\":\"lines\",\"name\":\"Linda\",\"orientation\":\"v\",\"showlegend\":true,\"x\":[1968,1969,1970,1971,1972,1973,1974,1975,1976,1977,1978,1979,1980,1981,1982,1983,1984,1985,1986,1987,1988,1989,1990,1991,1992,1993,1994,1995,1996,1997,1998,1999,2000,2001,2002,2003,2004,2005,2006,2007,2008,2009,2010,2011,2012,2013],\"xaxis\":\"x\",\"y\":[16,30,18,19,18,11,16,17,13,9,7,26,23,19,21,17,14,14,6,7,8,19,24,19,12,9,1,8,14,9,7,9,8,10,2,7,11,2,10,8,2,2,4,4,4,5],\"yaxis\":\"y\",\"type\":\"scatter\"},{\"hovertemplate\":\"Spouse Name=Patricia<br>Marriage Year=%{x}<br>Count=%{y}<extra></extra>\",\"legendgroup\":\"Patricia\",\"line\":{\"color\":\"#ab63fa\",\"dash\":\"solid\"},\"marker\":{\"symbol\":\"circle\"},\"mode\":\"lines\",\"name\":\"Patricia\",\"orientation\":\"v\",\"showlegend\":true,\"x\":[1968,1969,1970,1971,1972,1973,1974,1975,1976,1977,1978,1979,1980,1981,1982,1983,1984,1985,1986,1987,1988,1989,1990,1991,1992,1993,1994,1995,1996,1997,1998,1999,2000,2001,2002,2003,2004,2005,2006,2007,2009,2010,2013,2015],\"xaxis\":\"x\",\"y\":[14,11,18,8,8,10,12,22,9,13,9,12,25,18,20,26,17,8,7,9,6,13,22,13,22,8,11,11,15,8,4,7,8,8,12,12,8,4,4,1,4,4,2,1],\"yaxis\":\"y\",\"type\":\"scatter\"},{\"hovertemplate\":\"Spouse Name=Barbara<br>Marriage Year=%{x}<br>Count=%{y}<extra></extra>\",\"legendgroup\":\"Barbara\",\"line\":{\"color\":\"#FFA15A\",\"dash\":\"solid\"},\"marker\":{\"symbol\":\"circle\"},\"mode\":\"lines\",\"name\":\"Barbara\",\"orientation\":\"v\",\"showlegend\":true,\"x\":[1968,1969,1970,1971,1972,1973,1974,1975,1976,1977,1978,1979,1980,1981,1982,1983,1984,1985,1986,1987,1988,1989,1990,1991,1992,1993,1994,1995,1996,1997,1998,1999,2000,2001,2002,2003,2004,2005,2006,2007,2009,2013,2014],\"xaxis\":\"x\",\"y\":[15,13,14,8,10,5,16,8,6,13,5,14,24,22,17,18,8,4,9,6,7,18,12,8,19,3,21,6,12,12,10,9,4,12,6,7,5,4,1,1,2,6,4],\"yaxis\":\"y\",\"type\":\"scatter\"},{\"hovertemplate\":\"Spouse Name=Lisa<br>Marriage Year=%{x}<br>Count=%{y}<extra></extra>\",\"legendgroup\":\"Lisa\",\"line\":{\"color\":\"#19d3f3\",\"dash\":\"solid\"},\"marker\":{\"symbol\":\"circle\"},\"mode\":\"lines\",\"name\":\"Lisa\",\"orientation\":\"v\",\"showlegend\":true,\"x\":[1968,1969,1973,1976,1977,1978,1979,1980,1981,1982,1983,1984,1985,1986,1987,1988,1989,1990,1991,1992,1993,1994,1995,1996,1997,1998,1999,2000,2001,2002,2003,2004,2005,2006,2007,2008,2009,2010,2011,2012,2014],\"xaxis\":\"x\",\"y\":[1,2,5,1,2,2,11,11,18,12,10,3,9,6,8,13,29,27,17,17,10,16,16,14,10,11,1,13,7,18,18,10,16,5,2,5,5,4,6,12,2],\"yaxis\":\"y\",\"type\":\"scatter\"},{\"hovertemplate\":\"Spouse Name=Jennifer<br>Marriage Year=%{x}<br>Count=%{y}<extra></extra>\",\"legendgroup\":\"Jennifer\",\"line\":{\"color\":\"#FF6692\",\"dash\":\"solid\"},\"marker\":{\"symbol\":\"circle\"},\"mode\":\"lines\",\"name\":\"Jennifer\",\"orientation\":\"v\",\"showlegend\":true,\"x\":[1969,1970,1972,1974,1975,1976,1977,1978,1980,1981,1982,1983,1984,1985,1986,1987,1988,1989,1990,1991,1992,1993,1994,1995,1996,1997,1998,1999,2000,2001,2002,2003,2004,2005,2006,2007,2008,2009,2010,2011,2012,2013,2014],\"xaxis\":\"x\",\"y\":[2,1,1,2,2,2,2,1,6,7,2,5,7,3,7,3,4,15,9,11,10,2,13,20,11,6,20,17,20,19,13,12,26,23,13,13,23,12,2,11,16,4,6],\"yaxis\":\"y\",\"type\":\"scatter\"},{\"hovertemplate\":\"Spouse Name=Karen<br>Marriage Year=%{x}<br>Count=%{y}<extra></extra>\",\"legendgroup\":\"Karen\",\"line\":{\"color\":\"#B6E880\",\"dash\":\"solid\"},\"marker\":{\"symbol\":\"circle\"},\"mode\":\"lines\",\"name\":\"Karen\",\"orientation\":\"v\",\"showlegend\":true,\"x\":[1968,1969,1970,1971,1972,1973,1974,1975,1976,1977,1978,1979,1980,1981,1982,1983,1984,1985,1986,1987,1988,1989,1990,1991,1992,1993,1994,1995,1996,1997,1998,1999,2000,2001,2002,2003,2004,2005,2006,2007,2010,2011,2013,2014],\"xaxis\":\"x\",\"y\":[9,8,5,7,9,4,7,9,4,9,10,5,21,16,10,6,13,13,8,8,10,27,18,16,9,8,12,6,6,6,9,16,10,6,8,6,4,6,2,6,8,3,4,2],\"yaxis\":\"y\",\"type\":\"scatter\"},{\"hovertemplate\":\"Spouse Name=Nancy<br>Marriage Year=%{x}<br>Count=%{y}<extra></extra>\",\"legendgroup\":\"Nancy\",\"line\":{\"color\":\"#FF97FF\",\"dash\":\"solid\"},\"marker\":{\"symbol\":\"circle\"},\"mode\":\"lines\",\"name\":\"Nancy\",\"orientation\":\"v\",\"showlegend\":true,\"x\":[1968,1969,1970,1971,1972,1973,1974,1975,1976,1977,1978,1979,1980,1981,1982,1983,1984,1985,1986,1987,1988,1989,1990,1991,1992,1993,1994,1995,1996,1997,1998,1999,2000,2001,2002,2003,2005,2006,2007,2009,2010,2011,2012,2013],\"xaxis\":\"x\",\"y\":[8,6,8,9,10,5,8,6,7,4,4,5,14,19,18,20,12,5,7,5,9,18,14,12,13,7,8,7,14,5,5,7,4,8,4,2,6,3,7,2,2,2,2,4],\"yaxis\":\"y\",\"type\":\"scatter\"},{\"hovertemplate\":\"Spouse Name=Kathleen<br>Marriage Year=%{x}<br>Count=%{y}<extra></extra>\",\"legendgroup\":\"Kathleen\",\"line\":{\"color\":\"#FECB52\",\"dash\":\"solid\"},\"marker\":{\"symbol\":\"circle\"},\"mode\":\"lines\",\"name\":\"Kathleen\",\"orientation\":\"v\",\"showlegend\":true,\"x\":[1968,1969,1970,1971,1972,1973,1974,1975,1976,1977,1978,1979,1980,1981,1982,1983,1984,1985,1986,1987,1988,1989,1990,1991,1992,1993,1994,1995,1996,1997,1998,1999,2000,2001,2002,2003,2004,2005,2006,2007,2010,2011,2012,2013,2014],\"xaxis\":\"x\",\"y\":[10,12,7,15,7,11,9,9,7,5,7,13,12,24,7,11,6,10,5,11,3,21,4,6,3,2,9,3,4,11,3,7,9,1,9,4,8,1,3,4,4,4,4,5,9],\"yaxis\":\"y\",\"type\":\"scatter\"},{\"hovertemplate\":\"Spouse Name=Elizabeth<br>Marriage Year=%{x}<br>Count=%{y}<extra></extra>\",\"legendgroup\":\"Elizabeth\",\"line\":{\"color\":\"#636efa\",\"dash\":\"solid\"},\"marker\":{\"symbol\":\"circle\"},\"mode\":\"lines\",\"name\":\"Elizabeth\",\"orientation\":\"v\",\"showlegend\":true,\"x\":[1968,1969,1970,1971,1972,1973,1974,1975,1977,1978,1979,1980,1982,1983,1984,1985,1986,1987,1988,1989,1990,1991,1992,1993,1994,1995,1996,1997,1998,1999,2000,2001,2002,2003,2004,2005,2006,2007,2008,2009,2010,2011,2013,2014,2015],\"xaxis\":\"x\",\"y\":[3,6,3,4,2,3,5,1,3,8,13,10,10,10,8,8,3,6,6,26,16,17,11,2,8,12,9,6,9,3,8,12,4,12,6,10,4,6,2,2,8,8,4,2,3],\"yaxis\":\"y\",\"type\":\"scatter\"},{\"hovertemplate\":\"Spouse Name=Carol<br>Marriage Year=%{x}<br>Count=%{y}<extra></extra>\",\"legendgroup\":\"Carol\",\"line\":{\"color\":\"#EF553B\",\"dash\":\"solid\"},\"marker\":{\"symbol\":\"circle\"},\"mode\":\"lines\",\"name\":\"Carol\",\"orientation\":\"v\",\"showlegend\":true,\"x\":[1968,1969,1970,1971,1972,1973,1974,1975,1976,1977,1978,1979,1980,1981,1982,1983,1984,1985,1986,1987,1988,1989,1990,1991,1992,1993,1994,1995,1996,1997,1998,1999,2000,2001,2004,2005,2006,2007,2012,2013,2015],\"xaxis\":\"x\",\"y\":[11,5,12,9,7,7,10,10,8,7,7,9,20,8,30,19,6,7,10,4,4,15,14,7,4,4,6,8,9,4,8,2,2,4,2,2,1,1,2,2,1],\"yaxis\":\"y\",\"type\":\"scatter\"},{\"hovertemplate\":\"Spouse Name=Deborah<br>Marriage Year=%{x}<br>Count=%{y}<extra></extra>\",\"legendgroup\":\"Deborah\",\"line\":{\"color\":\"#00cc96\",\"dash\":\"solid\"},\"marker\":{\"symbol\":\"circle\"},\"mode\":\"lines\",\"name\":\"Deborah\",\"orientation\":\"v\",\"showlegend\":true,\"x\":[1968,1969,1970,1971,1972,1973,1974,1975,1976,1977,1978,1979,1980,1981,1982,1983,1984,1985,1986,1987,1988,1989,1990,1991,1992,1993,1994,1995,1996,1997,1998,1999,2000,2001,2002,2003,2004,2005,2006,2007,2012],\"xaxis\":\"x\",\"y\":[4,2,5,5,7,6,10,5,10,2,10,14,8,15,8,4,10,6,9,5,4,15,19,4,12,11,3,7,11,6,4,6,9,10,13,7,2,2,4,2,3],\"yaxis\":\"y\",\"type\":\"scatter\"},{\"hovertemplate\":\"Spouse Name=Julie<br>Marriage Year=%{x}<br>Count=%{y}<extra></extra>\",\"legendgroup\":\"Julie\",\"line\":{\"color\":\"#ab63fa\",\"dash\":\"solid\"},\"marker\":{\"symbol\":\"circle\"},\"mode\":\"lines\",\"name\":\"Julie\",\"orientation\":\"v\",\"showlegend\":true,\"x\":[1968,1969,1970,1971,1972,1973,1974,1975,1976,1977,1978,1979,1980,1981,1982,1983,1984,1985,1986,1987,1988,1989,1990,1991,1992,1993,1994,1995,1996,1997,1998,2000,2001,2002,2003,2004,2005,2006,2008,2009,2010,2011,2013,2014,2015],\"xaxis\":\"x\",\"y\":[2,3,2,3,3,1,4,1,1,2,3,3,16,14,10,6,8,4,4,9,6,24,16,21,6,2,6,6,16,4,8,6,13,7,8,7,11,2,2,3,4,2,8,3,2],\"yaxis\":\"y\",\"type\":\"scatter\"},{\"hovertemplate\":\"Spouse Name=Sandra<br>Marriage Year=%{x}<br>Count=%{y}<extra></extra>\",\"legendgroup\":\"Sandra\",\"line\":{\"color\":\"#FFA15A\",\"dash\":\"solid\"},\"marker\":{\"symbol\":\"circle\"},\"mode\":\"lines\",\"name\":\"Sandra\",\"orientation\":\"v\",\"showlegend\":true,\"x\":[1968,1969,1970,1971,1972,1973,1974,1975,1976,1977,1978,1979,1980,1981,1982,1983,1984,1985,1986,1988,1989,1990,1991,1992,1993,1994,1995,1996,1997,1998,1999,2000,2001,2002,2003,2004,2005,2006,2008,2011,2012,2013,2014],\"xaxis\":\"x\",\"y\":[12,3,7,8,5,9,6,4,3,2,6,9,12,20,10,15,3,6,4,4,17,13,11,5,5,6,9,10,4,10,4,8,4,6,2,2,2,6,4,2,2,5,2],\"yaxis\":\"y\",\"type\":\"scatter\"}],                        {\"template\":{\"data\":{\"histogram2dcontour\":[{\"type\":\"histogram2dcontour\",\"colorbar\":{\"outlinewidth\":0,\"ticks\":\"\"},\"colorscale\":[[0.0,\"#0d0887\"],[0.1111111111111111,\"#46039f\"],[0.2222222222222222,\"#7201a8\"],[0.3333333333333333,\"#9c179e\"],[0.4444444444444444,\"#bd3786\"],[0.5555555555555556,\"#d8576b\"],[0.6666666666666666,\"#ed7953\"],[0.7777777777777778,\"#fb9f3a\"],[0.8888888888888888,\"#fdca26\"],[1.0,\"#f0f921\"]]}],\"choropleth\":[{\"type\":\"choropleth\",\"colorbar\":{\"outlinewidth\":0,\"ticks\":\"\"}}],\"histogram2d\":[{\"type\":\"histogram2d\",\"colorbar\":{\"outlinewidth\":0,\"ticks\":\"\"},\"colorscale\":[[0.0,\"#0d0887\"],[0.1111111111111111,\"#46039f\"],[0.2222222222222222,\"#7201a8\"],[0.3333333333333333,\"#9c179e\"],[0.4444444444444444,\"#bd3786\"],[0.5555555555555556,\"#d8576b\"],[0.6666666666666666,\"#ed7953\"],[0.7777777777777778,\"#fb9f3a\"],[0.8888888888888888,\"#fdca26\"],[1.0,\"#f0f921\"]]}],\"heatmap\":[{\"type\":\"heatmap\",\"colorbar\":{\"outlinewidth\":0,\"ticks\":\"\"},\"colorscale\":[[0.0,\"#0d0887\"],[0.1111111111111111,\"#46039f\"],[0.2222222222222222,\"#7201a8\"],[0.3333333333333333,\"#9c179e\"],[0.4444444444444444,\"#bd3786\"],[0.5555555555555556,\"#d8576b\"],[0.6666666666666666,\"#ed7953\"],[0.7777777777777778,\"#fb9f3a\"],[0.8888888888888888,\"#fdca26\"],[1.0,\"#f0f921\"]]}],\"heatmapgl\":[{\"type\":\"heatmapgl\",\"colorbar\":{\"outlinewidth\":0,\"ticks\":\"\"},\"colorscale\":[[0.0,\"#0d0887\"],[0.1111111111111111,\"#46039f\"],[0.2222222222222222,\"#7201a8\"],[0.3333333333333333,\"#9c179e\"],[0.4444444444444444,\"#bd3786\"],[0.5555555555555556,\"#d8576b\"],[0.6666666666666666,\"#ed7953\"],[0.7777777777777778,\"#fb9f3a\"],[0.8888888888888888,\"#fdca26\"],[1.0,\"#f0f921\"]]}],\"contourcarpet\":[{\"type\":\"contourcarpet\",\"colorbar\":{\"outlinewidth\":0,\"ticks\":\"\"}}],\"contour\":[{\"type\":\"contour\",\"colorbar\":{\"outlinewidth\":0,\"ticks\":\"\"},\"colorscale\":[[0.0,\"#0d0887\"],[0.1111111111111111,\"#46039f\"],[0.2222222222222222,\"#7201a8\"],[0.3333333333333333,\"#9c179e\"],[0.4444444444444444,\"#bd3786\"],[0.5555555555555556,\"#d8576b\"],[0.6666666666666666,\"#ed7953\"],[0.7777777777777778,\"#fb9f3a\"],[0.8888888888888888,\"#fdca26\"],[1.0,\"#f0f921\"]]}],\"surface\":[{\"type\":\"surface\",\"colorbar\":{\"outlinewidth\":0,\"ticks\":\"\"},\"colorscale\":[[0.0,\"#0d0887\"],[0.1111111111111111,\"#46039f\"],[0.2222222222222222,\"#7201a8\"],[0.3333333333333333,\"#9c179e\"],[0.4444444444444444,\"#bd3786\"],[0.5555555555555556,\"#d8576b\"],[0.6666666666666666,\"#ed7953\"],[0.7777777777777778,\"#fb9f3a\"],[0.8888888888888888,\"#fdca26\"],[1.0,\"#f0f921\"]]}],\"mesh3d\":[{\"type\":\"mesh3d\",\"colorbar\":{\"outlinewidth\":0,\"ticks\":\"\"}}],\"scatter\":[{\"fillpattern\":{\"fillmode\":\"overlay\",\"size\":10,\"solidity\":0.2},\"type\":\"scatter\"}],\"parcoords\":[{\"type\":\"parcoords\",\"line\":{\"colorbar\":{\"outlinewidth\":0,\"ticks\":\"\"}}}],\"scatterpolargl\":[{\"type\":\"scatterpolargl\",\"marker\":{\"colorbar\":{\"outlinewidth\":0,\"ticks\":\"\"}}}],\"bar\":[{\"error_x\":{\"color\":\"#2a3f5f\"},\"error_y\":{\"color\":\"#2a3f5f\"},\"marker\":{\"line\":{\"color\":\"#E5ECF6\",\"width\":0.5},\"pattern\":{\"fillmode\":\"overlay\",\"size\":10,\"solidity\":0.2}},\"type\":\"bar\"}],\"scattergeo\":[{\"type\":\"scattergeo\",\"marker\":{\"colorbar\":{\"outlinewidth\":0,\"ticks\":\"\"}}}],\"scatterpolar\":[{\"type\":\"scatterpolar\",\"marker\":{\"colorbar\":{\"outlinewidth\":0,\"ticks\":\"\"}}}],\"histogram\":[{\"marker\":{\"pattern\":{\"fillmode\":\"overlay\",\"size\":10,\"solidity\":0.2}},\"type\":\"histogram\"}],\"scattergl\":[{\"type\":\"scattergl\",\"marker\":{\"colorbar\":{\"outlinewidth\":0,\"ticks\":\"\"}}}],\"scatter3d\":[{\"type\":\"scatter3d\",\"line\":{\"colorbar\":{\"outlinewidth\":0,\"ticks\":\"\"}},\"marker\":{\"colorbar\":{\"outlinewidth\":0,\"ticks\":\"\"}}}],\"scattermapbox\":[{\"type\":\"scattermapbox\",\"marker\":{\"colorbar\":{\"outlinewidth\":0,\"ticks\":\"\"}}}],\"scatterternary\":[{\"type\":\"scatterternary\",\"marker\":{\"colorbar\":{\"outlinewidth\":0,\"ticks\":\"\"}}}],\"scattercarpet\":[{\"type\":\"scattercarpet\",\"marker\":{\"colorbar\":{\"outlinewidth\":0,\"ticks\":\"\"}}}],\"carpet\":[{\"aaxis\":{\"endlinecolor\":\"#2a3f5f\",\"gridcolor\":\"white\",\"linecolor\":\"white\",\"minorgridcolor\":\"white\",\"startlinecolor\":\"#2a3f5f\"},\"baxis\":{\"endlinecolor\":\"#2a3f5f\",\"gridcolor\":\"white\",\"linecolor\":\"white\",\"minorgridcolor\":\"white\",\"startlinecolor\":\"#2a3f5f\"},\"type\":\"carpet\"}],\"table\":[{\"cells\":{\"fill\":{\"color\":\"#EBF0F8\"},\"line\":{\"color\":\"white\"}},\"header\":{\"fill\":{\"color\":\"#C8D4E3\"},\"line\":{\"color\":\"white\"}},\"type\":\"table\"}],\"barpolar\":[{\"marker\":{\"line\":{\"color\":\"#E5ECF6\",\"width\":0.5},\"pattern\":{\"fillmode\":\"overlay\",\"size\":10,\"solidity\":0.2}},\"type\":\"barpolar\"}],\"pie\":[{\"automargin\":true,\"type\":\"pie\"}]},\"layout\":{\"autotypenumbers\":\"strict\",\"colorway\":[\"#636efa\",\"#EF553B\",\"#00cc96\",\"#ab63fa\",\"#FFA15A\",\"#19d3f3\",\"#FF6692\",\"#B6E880\",\"#FF97FF\",\"#FECB52\"],\"font\":{\"color\":\"#2a3f5f\"},\"hovermode\":\"closest\",\"hoverlabel\":{\"align\":\"left\"},\"paper_bgcolor\":\"white\",\"plot_bgcolor\":\"#E5ECF6\",\"polar\":{\"bgcolor\":\"#E5ECF6\",\"angularaxis\":{\"gridcolor\":\"white\",\"linecolor\":\"white\",\"ticks\":\"\"},\"radialaxis\":{\"gridcolor\":\"white\",\"linecolor\":\"white\",\"ticks\":\"\"}},\"ternary\":{\"bgcolor\":\"#E5ECF6\",\"aaxis\":{\"gridcolor\":\"white\",\"linecolor\":\"white\",\"ticks\":\"\"},\"baxis\":{\"gridcolor\":\"white\",\"linecolor\":\"white\",\"ticks\":\"\"},\"caxis\":{\"gridcolor\":\"white\",\"linecolor\":\"white\",\"ticks\":\"\"}},\"coloraxis\":{\"colorbar\":{\"outlinewidth\":0,\"ticks\":\"\"}},\"colorscale\":{\"sequential\":[[0.0,\"#0d0887\"],[0.1111111111111111,\"#46039f\"],[0.2222222222222222,\"#7201a8\"],[0.3333333333333333,\"#9c179e\"],[0.4444444444444444,\"#bd3786\"],[0.5555555555555556,\"#d8576b\"],[0.6666666666666666,\"#ed7953\"],[0.7777777777777778,\"#fb9f3a\"],[0.8888888888888888,\"#fdca26\"],[1.0,\"#f0f921\"]],\"sequentialminus\":[[0.0,\"#0d0887\"],[0.1111111111111111,\"#46039f\"],[0.2222222222222222,\"#7201a8\"],[0.3333333333333333,\"#9c179e\"],[0.4444444444444444,\"#bd3786\"],[0.5555555555555556,\"#d8576b\"],[0.6666666666666666,\"#ed7953\"],[0.7777777777777778,\"#fb9f3a\"],[0.8888888888888888,\"#fdca26\"],[1.0,\"#f0f921\"]],\"diverging\":[[0,\"#8e0152\"],[0.1,\"#c51b7d\"],[0.2,\"#de77ae\"],[0.3,\"#f1b6da\"],[0.4,\"#fde0ef\"],[0.5,\"#f7f7f7\"],[0.6,\"#e6f5d0\"],[0.7,\"#b8e186\"],[0.8,\"#7fbc41\"],[0.9,\"#4d9221\"],[1,\"#276419\"]]},\"xaxis\":{\"gridcolor\":\"white\",\"linecolor\":\"white\",\"ticks\":\"\",\"title\":{\"standoff\":15},\"zerolinecolor\":\"white\",\"automargin\":true,\"zerolinewidth\":2},\"yaxis\":{\"gridcolor\":\"white\",\"linecolor\":\"white\",\"ticks\":\"\",\"title\":{\"standoff\":15},\"zerolinecolor\":\"white\",\"automargin\":true,\"zerolinewidth\":2},\"scene\":{\"xaxis\":{\"backgroundcolor\":\"#E5ECF6\",\"gridcolor\":\"white\",\"linecolor\":\"white\",\"showbackground\":true,\"ticks\":\"\",\"zerolinecolor\":\"white\",\"gridwidth\":2},\"yaxis\":{\"backgroundcolor\":\"#E5ECF6\",\"gridcolor\":\"white\",\"linecolor\":\"white\",\"showbackground\":true,\"ticks\":\"\",\"zerolinecolor\":\"white\",\"gridwidth\":2},\"zaxis\":{\"backgroundcolor\":\"#E5ECF6\",\"gridcolor\":\"white\",\"linecolor\":\"white\",\"showbackground\":true,\"ticks\":\"\",\"zerolinecolor\":\"white\",\"gridwidth\":2}},\"shapedefaults\":{\"line\":{\"color\":\"#2a3f5f\"}},\"annotationdefaults\":{\"arrowcolor\":\"#2a3f5f\",\"arrowhead\":0,\"arrowwidth\":1},\"geo\":{\"bgcolor\":\"white\",\"landcolor\":\"#E5ECF6\",\"subunitcolor\":\"white\",\"showland\":true,\"showlakes\":true,\"lakecolor\":\"white\"},\"title\":{\"x\":0.05},\"mapbox\":{\"style\":\"light\"}}},\"xaxis\":{\"anchor\":\"y\",\"domain\":[0.0,1.0],\"title\":{\"text\":\"Marriage Year\"}},\"yaxis\":{\"anchor\":\"x\",\"domain\":[0.0,1.0],\"title\":{\"text\":\"Count\"}},\"legend\":{\"title\":{\"text\":\"Spouse Name\"},\"tracegroupgap\":0},\"margin\":{\"t\":60}},                        {\"responsive\": true}                    ).then(function(){\n",
       "                            \n",
       "var gd = document.getElementById('f7e18d16-ac39-4d36-b26d-66b7f5a5e120');\n",
       "var x = new MutationObserver(function (mutations, observer) {{\n",
       "        var display = window.getComputedStyle(gd).display;\n",
       "        if (!display || display === 'none') {{\n",
       "            console.log([gd, 'removed!']);\n",
       "            Plotly.purge(gd);\n",
       "            observer.disconnect();\n",
       "        }}\n",
       "}});\n",
       "\n",
       "// Listen for the removal of the full notebook cells\n",
       "var notebookContainer = gd.closest('#notebook-container');\n",
       "if (notebookContainer) {{\n",
       "    x.observe(notebookContainer, {childList: true});\n",
       "}}\n",
       "\n",
       "// Listen for the clearing of the current output cell\n",
       "var outputEl = gd.closest('.output');\n",
       "if (outputEl) {{\n",
       "    x.observe(outputEl, {childList: true});\n",
       "}}\n",
       "\n",
       "                        })                };                });            </script>        </div>"
      ]
     },
     "metadata": {},
     "output_type": "display_data"
    }
   ],
   "source": [
    "fig = px.line(df[df.name== 'John'], x=\"Marriage Year\", y=\"Count\", color=\"Spouse Name\")\n",
    "fig.show()"
   ]
  },
  {
   "cell_type": "code",
   "execution_count": 5,
   "id": "1eae2fa9",
   "metadata": {},
   "outputs": [],
   "source": [
    "from jupyter_dash import JupyterDash"
   ]
  },
  {
   "cell_type": "code",
   "execution_count": 6,
   "id": "729b8d53",
   "metadata": {},
   "outputs": [],
   "source": [
    "import dash\n",
    "from dash import dcc\n",
    "from dash import html"
   ]
  },
  {
   "cell_type": "code",
   "execution_count": 8,
   "id": "558587fd",
   "metadata": {},
   "outputs": [],
   "source": [
    "JupyterDash.infer_jupyter_proxy_config()"
   ]
  },
  {
   "cell_type": "code",
   "execution_count": 9,
   "id": "797cc479",
   "metadata": {},
   "outputs": [],
   "source": [
    "external_stylesheets = ['https://codepen.io/chriddyp/pen/bWLwgP.css']"
   ]
  },
  {
   "cell_type": "code",
   "execution_count": 98,
   "id": "7334cce9",
   "metadata": {},
   "outputs": [],
   "source": [
    "from dash import Dash, dcc, html, Input, Output\n",
    "import plotly.express as px\n",
    "\n",
    "app = JupyterDash(__name__, external_stylesheets=external_stylesheets)\n",
    "\n",
    "# Create server variable with Flask server object for use with gunicorn\n",
    "server = app.server\n",
    "\n",
    "\n",
    "\n",
    "app.layout = html.Div([\n",
    "   \n",
    "    html.H1(children='Couple Names Voyager'),\n",
    "\n",
    "    html.Div(children='''\n",
    "        Enter a first name, and discover the evolving pattern of their spouse's name over time! \n",
    "    '''),\n",
    "    \n",
    "    html.Div([\n",
    "\n",
    "        html.Div([\n",
    "            dcc.Dropdown(\n",
    "                df['name'].unique(),\n",
    "                'John',\n",
    "                id='input_name', \n",
    "                placeholder=\"Type/Choose a first name\"\n",
    "            )\n",
    "        ], style={'width': '48%', 'display': 'inline-block'}),\n",
    "    ]),\n",
    "\n",
    "    dcc.Graph(id='pie'),\n",
    "    dcc.Graph(id='graphic')\n",
    "])\n",
    "\n",
    "\n",
    "@app.callback(\n",
    "    Output('pie', 'figure'),\n",
    "    Input('input_name', 'value'))\n",
    "def update_graph(column_name):\n",
    "    dff = top15[top15['name'] == column_name]\n",
    "    fig = px.pie(dff, values='Count', names='Spouse Name', title= column_name + \"'s Top Spouse Names\")\n",
    "    fig.update_traces(textposition='inside', textinfo='percent+label', showlegend=False)\n",
    "    return fig\n",
    "\n",
    "\n",
    "@app.callback(\n",
    "    Output('graphic', 'figure'),\n",
    "    Input('input_name', 'value'))\n",
    "def update_graph2(column_name):\n",
    "    import plotly.graph_objects as go\n",
    "    fig = go.Figure()\n",
    "    dff = top15[top15['name'] == column_name]\n",
    "    for nameb in dff[\"Spouse Name\"].tolist():\n",
    "        dff2 = df[(df[\"Spouse Name\"] == nameb) & (df['name'] == column_name)]\n",
    "        fig.add_trace(go.Scatter(x=dff2[\"Marriage Year\"], y=dff2[\"Count\"],\n",
    "                        mode='lines',\n",
    "                        name=nameb))\n",
    "    fig.update_layout(title= column_name + \"'s spouse name pattern over time\",\n",
    "                     xaxis_title=\"Marriage Year\",\n",
    "                    yaxis_title=\"Count\", \n",
    "                     legend_title=\"Top Spouse Names\")\n",
    "    return fig\n",
    "\n"
   ]
  },
  {
   "cell_type": "code",
   "execution_count": 170,
   "id": "5c62eccf",
   "metadata": {},
   "outputs": [],
   "source": [
    "from dash import Dash, dcc, html, Input, Output\n",
    "import plotly.express as px\n",
    "\n",
    "app = JupyterDash(__name__, external_stylesheets=external_stylesheets)\n",
    "\n",
    "# Create server variable with Flask server object for use with gunicorn\n",
    "server = app.server\n",
    "\n",
    "\n",
    "markdown_text1 = '''\n",
    "- We showcase a 163-year trend of marriage couple names in King County, providing a fun and informative way to explore historical naming trends for couples.\n",
    "- With this tool, you can delve into the fascinating world of marriage names and discover how they've changed over time.\n",
    "- To reveal the underlying name patterns and uncover people's (subconscious) name preferences.\n",
    "- A deeper understanding of the cultural, historical, and social aspects that influence name choices in relationships.\n",
    "'''\n",
    "\n",
    "markdown_text2 = '''\n",
    "### Overall Trend \n",
    "- By showing the top 1 marriage couple name per year, you can discover how they've changed over time. Additionally,\n",
    "you can check [Baby Names Voyager](https://namerology.com/baby-name-grapher/) to see how those popular names become top marriage names 30 years later.\n",
    "'''\n",
    "\n",
    "\n",
    "markdown_text3 = '''\n",
    "### Cultural and Historical Trend\n",
    "- Now let's play around the data (1.2 million marriage records) and see the cultural, historical, and social aspects that influence name choices in relationships.\n",
    "- You can enter a Latin American/Asian/Arabic name and see their changes over time because of racial population makeup shift\n",
    "- You can enter your own first name to see if it make sense to you! \n",
    "'''\n",
    "\n",
    "\n",
    "app.layout = html.Div([\n",
    "   \n",
    "    html.H1(children='Couple Names Voyager'),\n",
    "    html.Div([\n",
    "    dcc.Markdown(children=markdown_text1)\n",
    "]),\n",
    "        html.Div([\n",
    "    dcc.Markdown(children=markdown_text2)\n",
    "]),\n",
    "    dcc.Graph(id='overall'),\n",
    "    \n",
    "    html.Div([\n",
    "    dcc.Markdown(children=markdown_text3)\n",
    "]),\n",
    "\n",
    "    html.Div(children='''\n",
    "        Enter a first name, and discover the evolving pattern of their spouse's name over time! \n",
    "    '''),\n",
    "    \n",
    "    html.Div([\n",
    "\n",
    "        html.Div([\n",
    "            dcc.Dropdown(\n",
    "                df['name'].unique(),\n",
    "                'John',\n",
    "                id='input_name', \n",
    "                placeholder=\"Type/Choose a first name\"\n",
    "            ),\n",
    "            dcc.RadioItems(\n",
    "                ['Count', 'Percentage'],\n",
    "                'Count',\n",
    "                id='crossfilter-yaxis-type',\n",
    "                labelStyle={'display': 'inline-block', 'marginTop': '5px'}\n",
    "            )\n",
    "        ], style={'width': '48%', 'display': 'inline-block'}),\n",
    "    ]),\n",
    "\n",
    "    dcc.Graph(id='graphic')\n",
    "])\n",
    "\n",
    "\n",
    "@app.callback(\n",
    "    Output('overall', 'figure'),\n",
    "    Input('input_name', 'value'))\n",
    "def update_graph(column_name):\n",
    "    fig = px.scatter(top1pair_perYear, x=\"Marriage Year\", y=\"Count\", hover_data=['Name Pair'],color=\"Person A name\",\n",
    "                  text = 'Name Pair')\n",
    "    fig.update_layout(title='Top 1 marriage name pair per year',\n",
    "                  xaxis_title=\"Marriage Year\",\n",
    "    yaxis_title=\"Count\",\n",
    "    legend_title=\"Popular Names\", height=800,width=1000)\n",
    "    fig.update_traces(textposition='top center',textfont_size=9)\n",
    "    return fig\n",
    "\n",
    "\n",
    "@app.callback(\n",
    "    Output('graphic', 'figure'),\n",
    "    Input('input_name', 'value'),\n",
    "Input('crossfilter-yaxis-type', 'value'))\n",
    "def update_graph2(column_name, yaxis):\n",
    "    dff = df[df['name'] == column_name]\n",
    "    fig = px.line(dff, x=\"Marriage Year\", y= yaxis, color=\"Spouse Name\")\n",
    "    fig.update_layout(title= column_name + \"'s spouse name pattern over time\")\n",
    "    fig.update_yaxes(title=yaxis)\n",
    "    return fig\n"
   ]
  },
  {
   "cell_type": "code",
   "execution_count": 171,
   "id": "f1249ae8",
   "metadata": {
    "scrolled": false
   },
   "outputs": [
    {
     "data": {
      "text/html": [
       "\n",
       "        <iframe\n",
       "            width=\"100%\"\n",
       "            height=\"650\"\n",
       "            src=\"http://localhost:8888/proxy/8050/\"\n",
       "            frameborder=\"0\"\n",
       "            allowfullscreen\n",
       "            \n",
       "        ></iframe>\n",
       "        "
      ],
      "text/plain": [
       "<IPython.lib.display.IFrame at 0x16a7ac760>"
      ]
     },
     "metadata": {},
     "output_type": "display_data"
    }
   ],
   "source": [
    "app.run_server(mode=\"inline\")"
   ]
  },
  {
   "cell_type": "code",
   "execution_count": null,
   "id": "71a85304",
   "metadata": {},
   "outputs": [],
   "source": []
  },
  {
   "cell_type": "code",
   "execution_count": null,
   "id": "05a0cac7",
   "metadata": {},
   "outputs": [],
   "source": []
  }
 ],
 "metadata": {
  "kernelspec": {
   "display_name": "Python 3 (ipykernel)",
   "language": "python",
   "name": "python3"
  },
  "language_info": {
   "codemirror_mode": {
    "name": "ipython",
    "version": 3
   },
   "file_extension": ".py",
   "mimetype": "text/x-python",
   "name": "python",
   "nbconvert_exporter": "python",
   "pygments_lexer": "ipython3",
   "version": "3.9.13"
  }
 },
 "nbformat": 4,
 "nbformat_minor": 5
}
